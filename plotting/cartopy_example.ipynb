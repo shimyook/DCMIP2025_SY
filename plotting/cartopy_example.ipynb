{
 "cells": [
  {
   "cell_type": "code",
   "execution_count": 1,
   "id": "6c3cd50f-0200-4efe-bc21-8c34a0de36d9",
   "metadata": {},
   "outputs": [],
   "source": [
    "# example plotting script using cartopy"
   ]
  },
  {
   "cell_type": "code",
   "execution_count": 2,
   "id": "4ddeeb75-a34e-4427-888b-3542d4d6be1b",
   "metadata": {},
   "outputs": [],
   "source": [
    "import numpy as np\n",
    "from matplotlib import pyplot as plt\n",
    "from netCDF4 import Dataset\n",
    "import matplotlib\n",
    "import matplotlib.colors as colors\n",
    "import metpy.calc as mpc\n",
    "import xarray as xr\n",
    "from utils import *\n",
    "import cartopy.crs as ccrs\n",
    "import matplotlib.patches as mpatches\n",
    "import cartopy.util as cutil\n",
    "\n",
    "%matplotlib inline\n",
    "%config InlineBackend.figure_format = 'svg'"
   ]
  },
  {
   "cell_type": "code",
   "execution_count": 3,
   "id": "0cb05980-b1b1-44e8-a50d-c61c3a8c20a4",
   "metadata": {},
   "outputs": [],
   "source": [
    "small_earth_fact = 20 \n",
    "center_lat = 0\n",
    "center_lon = np.deg2rad(90)\n",
    "e1 = 10 # exponent\n",
    "e2 = 10 # exponent\n",
    "e3 = 10 # exponent\n",
    "xlon = 40000 # m\n",
    "xlat = 300000 # m\n",
    "xgap = 25000 # m\n",
    "d1 = xlon / (2*6371000.0/small_earth_fact)*np.power(np.log(10), -1.0/e1) # scale factors\n",
    "d2 = xlat / (2*6371000.0/small_earth_fact)*np.power(np.log(10), -1.0/e2)\n",
    "d3 = xgap / (2*6371000.0/small_earth_fact)*np.power(np.log(10), -1.0/e3)\n",
    "h_val = 1500 # meters"
   ]
  },
  {
   "cell_type": "code",
   "execution_count": 4,
   "id": "11730736-8d42-488c-86e0-145db3a55ff6",
   "metadata": {},
   "outputs": [],
   "source": [
    "def mountain_shape(lats, lons, z_val): # shape of the mountain\n",
    "    filter = np.zeros(np.shape(lats))\n",
    "    gpart = 1.0 - np.exp(-np.power((lats - center_lat)/d3, e3))\n",
    "    hpart = h_val * np.exp(-np.power((lons - center_lon)/d1, e1) -np.power((lats - center_lat)/d2, e2))\n",
    "    height = gpart * hpart\n",
    "    count = 0\n",
    "    x = np.zeros(np.size(lons))\n",
    "    y = np.zeros(np.size(lons))\n",
    "    for j in range(np.size(lon_inds)):\n",
    "        for i in range(np.size(lat_inds)):\n",
    "            if (height[i, j] > z_val):\n",
    "                filter[i, j] = 1.0\n",
    "                count += 1\n",
    "                x[count-1] = lons[i, j]\n",
    "                y[count-1] = lats[i, j]\n",
    "    return np.rad2deg(x[0:count]), np.rad2deg(y[0:count])"
   ]
  },
  {
   "cell_type": "code",
   "execution_count": 5,
   "id": "c5117d74-7c83-4308-b042-779cd3ad865b",
   "metadata": {},
   "outputs": [],
   "source": [
    "# Information about the paths\n",
    "model = 'MPAS' # 'SE' or 'FV3' or 'MPAS'\n",
    "vert = 'hydrostatic' # or 'nonhydrostatic'\n",
    "\n",
    "# Name of your CAM clone:\n",
    "CAM_dirname = 'CAM_6_4_060_06032025'\n",
    "\n",
    "# Edit this to your own case name\n",
    "case = 'dcmip2025_horiz_mount_flow_mpasa120'\n",
    "\n",
    "# Modify the following according to your naming convention\n",
    "nc_file = case + '.cam.h0i.0001-01-01-00000_gap_with_rot.regrid.1x1.nc'\n",
    "\n",
    "# Define the base root to the data, add your username\n",
    "username = 'timand'\n",
    "run_base = f'/glade/derecho/scratch/{username}/'\n",
    "output_base = f'/glade/u/home/{username}/'"
   ]
  },
  {
   "cell_type": "code",
   "execution_count": 6,
   "id": "dc292de4-43bc-44c3-8037-328783649287",
   "metadata": {},
   "outputs": [],
   "source": [
    "# Automatically set some paths\n",
    "run_path = run_base + case + '/run/' + nc_file\n",
    "output_dir = f'{CAM_dirname}/plotting/'\n",
    "output_file = output_base + output_dir"
   ]
  },
  {
   "cell_type": "code",
   "execution_count": 7,
   "id": "2648fbfb-06e2-455d-ab70-05642e010b8a",
   "metadata": {},
   "outputs": [],
   "source": [
    "ds = xr.open_dataset(run_path)"
   ]
  },
  {
   "cell_type": "code",
   "execution_count": 8,
   "id": "07f22a8e-a4ec-48f0-a643-e82df804e593",
   "metadata": {},
   "outputs": [],
   "source": [
    "time_stamps = ds['time']\n",
    "lats = ds['lat']\n",
    "lons = ds['lon']\n",
    "levs = ds['lev']\n",
    "z_val = 300"
   ]
  },
  {
   "cell_type": "code",
   "execution_count": 9,
   "id": "5541ac43-f7d5-4042-aed7-3bc46e56f7d4",
   "metadata": {},
   "outputs": [
    {
     "name": "stdout",
     "output_type": "stream",
     "text": [
      "Crop is of size, 80 lat vals and 180 lon vals\n"
     ]
    },
    {
     "ename": "NameError",
     "evalue": "name 'h_val' is not defined",
     "output_type": "error",
     "traceback": [
      "\u001b[0;31m---------------------------------------------------------------------------\u001b[0m",
      "\u001b[0;31mNameError\u001b[0m                                 Traceback (most recent call last)",
      "Cell \u001b[0;32mIn[9], line 20\u001b[0m\n\u001b[1;32m     18\u001b[0m lon_slice \u001b[38;5;241m=\u001b[39m lons[lon_inds] \n\u001b[1;32m     19\u001b[0m LON_subset, LAT_subset \u001b[38;5;241m=\u001b[39m np\u001b[38;5;241m.\u001b[39mmeshgrid(lon_slice, lat_slice)\n\u001b[0;32m---> 20\u001b[0m mountain_x, mountain_y \u001b[38;5;241m=\u001b[39m \u001b[43mmountain_shape\u001b[49m\u001b[43m(\u001b[49m\u001b[43mnp\u001b[49m\u001b[38;5;241;43m.\u001b[39;49m\u001b[43mdeg2rad\u001b[49m\u001b[43m(\u001b[49m\u001b[43mLAT_subset\u001b[49m\u001b[43m)\u001b[49m\u001b[43m,\u001b[49m\u001b[43m \u001b[49m\u001b[43mnp\u001b[49m\u001b[38;5;241;43m.\u001b[39;49m\u001b[43mdeg2rad\u001b[49m\u001b[43m(\u001b[49m\u001b[43mLON_subset\u001b[49m\u001b[43m)\u001b[49m\u001b[43m,\u001b[49m\u001b[43m \u001b[49m\u001b[43mz_val\u001b[49m\u001b[43m)\u001b[49m\n",
      "Cell \u001b[0;32mIn[4], line 4\u001b[0m, in \u001b[0;36mmountain_shape\u001b[0;34m(lats, lons, z_val)\u001b[0m\n\u001b[1;32m      2\u001b[0m \u001b[38;5;28mfilter\u001b[39m \u001b[38;5;241m=\u001b[39m np\u001b[38;5;241m.\u001b[39mzeros(np\u001b[38;5;241m.\u001b[39mshape(lats))\n\u001b[1;32m      3\u001b[0m gpart \u001b[38;5;241m=\u001b[39m \u001b[38;5;241m1.0\u001b[39m \u001b[38;5;241m-\u001b[39m np\u001b[38;5;241m.\u001b[39mexp(\u001b[38;5;241m-\u001b[39mnp\u001b[38;5;241m.\u001b[39mpower((lats \u001b[38;5;241m-\u001b[39m center_lat)\u001b[38;5;241m/\u001b[39md3, e3))\n\u001b[0;32m----> 4\u001b[0m hpart \u001b[38;5;241m=\u001b[39m \u001b[43mh_val\u001b[49m \u001b[38;5;241m*\u001b[39m np\u001b[38;5;241m.\u001b[39mexp(\u001b[38;5;241m-\u001b[39mnp\u001b[38;5;241m.\u001b[39mpower((lons \u001b[38;5;241m-\u001b[39m center_lon)\u001b[38;5;241m/\u001b[39md1, e1) \u001b[38;5;241m-\u001b[39mnp\u001b[38;5;241m.\u001b[39mpower((lats \u001b[38;5;241m-\u001b[39m center_lat)\u001b[38;5;241m/\u001b[39md2, e2))\n\u001b[1;32m      5\u001b[0m height \u001b[38;5;241m=\u001b[39m gpart \u001b[38;5;241m*\u001b[39m hpart\n\u001b[1;32m      6\u001b[0m count \u001b[38;5;241m=\u001b[39m \u001b[38;5;241m0\u001b[39m\n",
      "\u001b[0;31mNameError\u001b[0m: name 'h_val' is not defined"
     ]
    }
   ],
   "source": [
    "# Crop to the subdomain of interest\n",
    "\n",
    "lon_crop_left = 70.\n",
    "lon_crop_right = 250.\n",
    "lon_ticks = np.linspace(80, 220, 8) # Plotting ticks\n",
    "\n",
    "lat_crop_up = 40.\n",
    "lat_crop_down = -40.\n",
    "lat_ticks = np.linspace(-40,40,5) # Plotting ticks\n",
    "\n",
    "\n",
    "lon_inds = np.where((lons > lon_crop_left) & (lons < lon_crop_right))[0]\n",
    "lat_inds = np.where((lats > lat_crop_down) & (lats < lat_crop_up))[0]\n",
    "\n",
    "print(f'Crop is of size, {len(lat_inds)} lat vals and {len(lon_inds)} lon vals')\n",
    "\n",
    "lat_slice = lats[lat_inds] \n",
    "lon_slice = lons[lon_inds] \n",
    "LON_subset, LAT_subset = np.meshgrid(lon_slice, lat_slice)\n",
    "mountain_x, mountain_y = mountain_shape(np.deg2rad(LAT_subset), np.deg2rad(LON_subset), z_val)"
   ]
  },
  {
   "cell_type": "code",
   "execution_count": null,
   "id": "9e39554b-f0a7-4b87-ae34-e54639dc721a",
   "metadata": {},
   "outputs": [],
   "source": [
    "data = ds[['U', 'V']].isel(time=20).interp(lev=z_val, method='linear')\n",
    "vor = mpc.vorticity(data['U'], data['V'])"
   ]
  },
  {
   "cell_type": "code",
   "execution_count": null,
   "id": "0931e972-b58e-4d7f-89a6-e799feb38cf4",
   "metadata": {},
   "outputs": [],
   "source": [
    "fig = plt.figure(figsize=(10, 5))\n",
    "ax = fig.add_subplot(1, 1, 1, projection=ccrs.PlateCarree())\n",
    "ax.set_extent([70-180, 250-180, -40, 40], crs=ccrs.PlateCarree())\n",
    "magnitude = np.sqrt(np.square(data['U']) + np.square(data['V']))\n",
    "plot = ax.streamplot(lon_slice-180, lat_slice, data['U'].isel(lat=lat_inds, lon=lon_inds).data, data['V'].isel(lat=lat_inds, lon=lon_inds).data, transform=ccrs.PlateCarree(), density=2, cmap='RdBu_r', color=magnitude.isel(lat=lat_inds, lon=lon_inds).data, broken_streamlines=True)\n",
    "ax.scatter(mountain_x-180, mountain_y, color='tab:brown', s=12, marker='o', transform=ccrs.PlateCarree(), zorder=3)\n",
    "fig.colorbar(plot.lines, location='bottom', fraction=0.04, pad=0.03, label='Flow speed [m/s]')\n",
    "plt.title('Streamline plot using cartopy')\n",
    "ax.set_aspect('equal')\n",
    "plt.show()"
   ]
  },
  {
   "cell_type": "code",
   "execution_count": null,
   "id": "7dac7b13-45f6-418e-b926-c027b75de4ab",
   "metadata": {},
   "outputs": [],
   "source": [
    "fig = plt.figure(figsize=(10, 5))\n",
    "proj = ccrs.Orthographic(central_latitude=0, central_longitude=120)\n",
    "# proj = ccrs.Mollweide()\n",
    "ax = fig.add_subplot(1, 1, 1, projection=proj)\n",
    "cdata, clon, clat = cutil.add_cyclic(vor, vor['lon'], vor['lat'])\n",
    "ax.set_global()\n",
    "contour = ax.contourf(clon, clat, cdata, transform=ccrs.PlateCarree(), levels=15, cmap='RdBu')\n",
    "ax.scatter(mountain_x, mountain_y, color='tab:brown', s=10, marker='o', transform=ccrs.PlateCarree(), zorder=3)\n",
    "cb = fig.colorbar(contour, ax=ax, fraction=0.025, location='right', label='Fluid vorticity [1/s]')\n",
    "plt.title('Example Vorticity Plot with Cartopy Transformations')\n",
    "plt.show()"
   ]
  },
  {
   "cell_type": "code",
   "execution_count": null,
   "id": "7e9ca945-50d2-4ac4-bfa2-44c3ef94dc46",
   "metadata": {},
   "outputs": [],
   "source": []
  }
 ],
 "metadata": {
  "kernelspec": {
   "display_name": "NPL 2025a",
   "language": "python",
   "name": "npl-2025a"
  },
  "language_info": {
   "codemirror_mode": {
    "name": "ipython",
    "version": 3
   },
   "file_extension": ".py",
   "mimetype": "text/x-python",
   "name": "python",
   "nbconvert_exporter": "python",
   "pygments_lexer": "ipython3",
   "version": "3.12.8"
  }
 },
 "nbformat": 4,
 "nbformat_minor": 5
}
